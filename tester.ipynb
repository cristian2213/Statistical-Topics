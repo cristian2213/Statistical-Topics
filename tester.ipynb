{
 "cells": [
  {
   "cell_type": "code",
   "execution_count": null,
   "id": "5dd0b028",
   "metadata": {},
   "outputs": [
    {
     "name": "stdout",
     "output_type": "stream",
     "text": [
      "# ***************************\n",
      "# NORMAL DISTRIBUTIONS AND Z-SCORES\n",
      "# ***************************\n",
      "question 1 z-score -2.4 \n",
      "\n",
      "question 3 percentage 2.275013194817915 % \n",
      "\n",
      "question 4 value 14.774315011927039 \n",
      "\n",
      "question 5 values (14, 22) \n",
      "\n",
      "question 6 percentage 0.09944010834107919\n"
     ]
    }
   ],
   "source": [
    "import statistics\n",
    "from helpers import Statistics\n",
    "\n",
    "print(\n",
    "    \"# ***************************\\n\"\n",
    "    \"# CHEBYSHEV’S THEOREM\\n\"\n",
    "    \"# ***************************\"\n",
    ")\n",
    "\n",
    "# QUESTION 1\n"
   ]
  }
 ],
 "metadata": {
  "kernelspec": {
   "display_name": "venv",
   "language": "python",
   "name": "python3"
  },
  "language_info": {
   "codemirror_mode": {
    "name": "ipython",
    "version": 3
   },
   "file_extension": ".py",
   "mimetype": "text/x-python",
   "name": "python",
   "nbconvert_exporter": "python",
   "pygments_lexer": "ipython3",
   "version": "3.12.4"
  }
 },
 "nbformat": 4,
 "nbformat_minor": 5
}
