{
 "cells": [
  {
   "cell_type": "code",
   "execution_count": null,
   "id": "5dd0b028",
   "metadata": {},
   "outputs": [
    {
     "name": "stdout",
     "output_type": "stream",
     "text": [
      "# ***************************\n",
      "# CHEBYSHEV’S THEOREM\n",
      "# ***************************\n",
      "question 2 percentage 0.51 % \n",
      "\n",
      "question 3 amount of whales which traveled between 1600 and 2400 miles 469 \n",
      "\n",
      "question 4 height range (67.30790021169692 to 78.69209978830308) \n",
      "\n",
      "question 5 yearly acceptance range (9000.0 to 11000.0) \n",
      "\n",
      "question 6 weight range (43.43145750507621 to 156.5685424949238) \n",
      "\n"
     ]
    }
   ],
   "source": [
    "import statistics\n",
    "from helpers import Statistics\n",
    "\n"
   ]
  }
 ],
 "metadata": {
  "kernelspec": {
   "display_name": "venv",
   "language": "python",
   "name": "python3"
  },
  "language_info": {
   "codemirror_mode": {
    "name": "ipython",
    "version": 3
   },
   "file_extension": ".py",
   "mimetype": "text/x-python",
   "name": "python",
   "nbconvert_exporter": "python",
   "pygments_lexer": "ipython3",
   "version": "3.12.4"
  }
 },
 "nbformat": 4,
 "nbformat_minor": 5
}
