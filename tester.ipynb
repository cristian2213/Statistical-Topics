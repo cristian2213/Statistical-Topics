{
 "cells": [
  {
   "cell_type": "code",
   "execution_count": 24,
   "id": "5dd0b028",
   "metadata": {},
   "outputs": [
    {
     "name": "stdout",
     "output_type": "stream",
     "text": [
      "# ***************************\n",
      "# WEIGHTED MEANS AND GROUPED DATA\n",
      "# ***************************\n",
      "question 2 - X̄: 12.912280701754385\n"
     ]
    }
   ],
   "source": [
    "import statistics\n",
    "from helpers import Statistics\n",
    "print(\n",
    "    \"# ***************************\\n# WEIGHTED MEANS AND GROUPED DATA\\n# ***************************\"\n",
    ")\n",
    "# QUESTION 2 (weighted mean of stock prices)\n",
    "stock_prices = [8, 10, 14, 9, 6, 13, 18, 21, 25, 27, 28, 31]\n",
    "shares = [30, 12, 10, 25, 35, 15, 10, 5, 7, 10, 8, 4]\n",
    "weighted_mean = Statistics.get_weighted_mean(list(zip(stock_prices, shares)))\n",
    "print(f\"question 2 - X̄: {weighted_mean}\")"
   ]
  }
 ],
 "metadata": {
  "kernelspec": {
   "display_name": "venv",
   "language": "python",
   "name": "python3"
  },
  "language_info": {
   "codemirror_mode": {
    "name": "ipython",
    "version": 3
   },
   "file_extension": ".py",
   "mimetype": "text/x-python",
   "name": "python",
   "nbconvert_exporter": "python",
   "pygments_lexer": "ipython3",
   "version": "3.12.4"
  }
 },
 "nbformat": 4,
 "nbformat_minor": 5
}
