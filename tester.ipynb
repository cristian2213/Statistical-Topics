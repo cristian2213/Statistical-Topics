{
 "cells": [
  {
   "cell_type": "code",
   "execution_count": null,
   "id": "5dd0b028",
   "metadata": {},
   "outputs": [
    {
     "name": "stdout",
     "output_type": "stream",
     "text": [
      "# ***************************\n",
      "# WEIGHTED MEANS AND GROUPED DATA\n",
      "# ***************************\n",
      "question 1 - X̄: $12.91 \n",
      "\n",
      "question 2 - X̄: 88.10 \n",
      "\n",
      "question 3 - s^2: 27.77777777777778\n",
      "question 3 - s: 5.270462766947299 \n",
      "\n",
      "question 4 - X̄: 1.6538461538461537 \n",
      "\n",
      "question 5 - X̄: 11.7\n",
      "question 5 - s^2: 22.642105263157898\n",
      "question 5 - s: 4.758372123232681 \n",
      "\n",
      "question 6 - X̄: 20.56756756756757\n",
      "question 6 - s^2: 57.80780780780781\n",
      "question 6 - s: 7.603144599953878 \n",
      "\n"
     ]
    }
   ],
   "source": [
    "import math\n",
    "from helpers import Statistics\n",
    "\n",
    "\n"
   ]
  }
 ],
 "metadata": {
  "kernelspec": {
   "display_name": "venv",
   "language": "python",
   "name": "python3"
  },
  "language_info": {
   "codemirror_mode": {
    "name": "ipython",
    "version": 3
   },
   "file_extension": ".py",
   "mimetype": "text/x-python",
   "name": "python",
   "nbconvert_exporter": "python",
   "pygments_lexer": "ipython3",
   "version": "3.12.4"
  }
 },
 "nbformat": 4,
 "nbformat_minor": 5
}
